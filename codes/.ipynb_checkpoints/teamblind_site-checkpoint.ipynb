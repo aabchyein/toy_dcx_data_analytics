{
 "cells": [
  {
   "cell_type": "markdown",
   "id": "f5be77a3-8003-4f76-aa12-1cdaaffcdc34",
   "metadata": {},
   "source": [
    "# scrapping 대상 사이트\n",
    "1. 블라인드 : https://www.teamblind.com/kr/search/%EB%94%94%EC%8A%A4%ED%81%AC\n",
    "2. 하이닥 : https://www.hidoc.co.kr/integratesearch/searchhealthqnalist?query=%EB%94%94%EC%8A%A4%ED%81%AC&page=1\n",
    "3. 클리앙 : https://www.clien.net/service/search?q=%EB%94%94%EC%8A%A4%ED%81%AC&sort=recency&p=10&boardCd=&isBoard=false"
   ]
  },
  {
   "cell_type": "code",
   "execution_count": 25,
   "id": "49ccd436-7776-48d0-975b-db9d0eac5915",
   "metadata": {
    "tags": []
   },
   "outputs": [],
   "source": [
    "from selenium import webdriver\n",
    "import time"
   ]
  },
  {
   "cell_type": "code",
   "execution_count": 132,
   "id": "2ceb7591-d618-4fb3-85d0-042e88d41f18",
   "metadata": {
    "tags": []
   },
   "outputs": [],
   "source": [
    "# open chrome browser\n",
    "browser = webdriver.Chrome(executable_path='../../chromedriver.exe')"
   ]
  },
  {
   "cell_type": "markdown",
   "id": "f4a69d9a-d414-4924-9932-6d80be9497a0",
   "metadata": {},
   "source": [
    "## 1. 블라인드 사이트"
   ]
  },
  {
   "cell_type": "code",
   "execution_count": 133,
   "id": "b64dfcfe-3413-40a0-b088-a0ba7f2028d7",
   "metadata": {
    "tags": []
   },
   "outputs": [],
   "source": [
    "browser.get('https://www.teamblind.com/kr/search/%EB%94%94%EC%8A%A4%ED%81%AC')"
   ]
  },
  {
   "cell_type": "code",
   "execution_count": 134,
   "id": "4e15c786-3c1b-413b-81c0-ad5d569fb996",
   "metadata": {
    "tags": []
   },
   "outputs": [],
   "source": [
    "browser.implicitly_wait(10)"
   ]
  },
  {
   "cell_type": "markdown",
   "id": "5a9624bd-6dad-48ec-99aa-84103dbe880f",
   "metadata": {},
   "source": [
    "### 게시글 클릭\n",
    "- #wrap > section > div > div > div.article-list > div"
   ]
  },
  {
   "cell_type": "code",
   "execution_count": 47,
   "id": "df913998-3a16-47c8-95c8-e04221440618",
   "metadata": {
    "tags": []
   },
   "outputs": [],
   "source": [
    "click_path = '#wrap > section > div > div > div.article-list > div'\n",
    "browser.find_element_by_css_selector(click_path).click()"
   ]
  },
  {
   "cell_type": "markdown",
   "id": "b5cdd96a-0e97-4f86-969d-d0ba9f41f935",
   "metadata": {},
   "source": [
    "### 게시글 정보\n",
    "- title tag(제목) : div.article-view-head > h2\n",
    "- content tag(내용) : .contents-txt\n",
    "- review tag(댓글) : .wrap-comment.comment_area\n",
    "- reply(답글) tag : .wrap-reply"
   ]
  },
  {
   "cell_type": "code",
   "execution_count": 48,
   "id": "e8473396-3b31-436c-9f39-ebd6727ef9ba",
   "metadata": {
    "tags": []
   },
   "outputs": [
    {
     "data": {
      "text/plain": [
       "['허리 디스크 여자 다이어트',\n",
       " '안녕하세요!\\n운동에 대해 잘 몰라서 여쭤보러고 글 남깁니다.\\n\\n저는 현재 매우 비만 상태고\\n164/75(추정)\\n운동도 거의해본 적 없는 상태라 다이어트를 하려고 했는데 허리를 다쳤어요ㅠㅠ\\n\\n식단으로만 빼기에는 체질 개선도 그렇고 살쳐짐도 있을 것 같아 운동을 병행하기는 해야할 거 같은데\\n허리 디스크가 있는 경우 어떤 운동을 해야 하나요?ㅠ\\n\\n디스크는 확진 판정을 받은 건 아니고 (mri찍은 게 아니어서..)\\n허리를 삐끗해서 정형외과 갔고\\n현재 약물 및 물리치료 1번 받고 한의원 갔다가 효과가 없어서 정형외과에서 허리 주사를 한 번 받았습니다.\\n\\n통증은 거의 사라졌지만 자세 신경쓰고 쉬어서 그런거 같거 움직이면 약한 통증은 있어서 주사 한 번 더 맞을 거 같아요..\\n\\n이런 경우 어떤 운동을 할 수 있을까요?\\n\\n헬스장 런닝머신이나 스텝밀(천국의 계단)은 해도 될까요..?\\n아니면 필라테스 등으로 자세를 교정하는 게 좋을까요?\\n\\n조언 부탁드리겠습니다! ㅠㅠ']"
      ]
     },
     "execution_count": 48,
     "metadata": {},
     "output_type": "execute_result"
    }
   ],
   "source": [
    "# 글 1개의 제목, 내용\n",
    "title_name = browser.find_element_by_css_selector('div.article-view-head > h2').text\n",
    "content = browser.find_element_by_css_selector('.contents-txt').text\n",
    "\n",
    "[title_name, content]"
   ]
  },
  {
   "cell_type": "code",
   "execution_count": 49,
   "id": "fb8af774-df9a-426d-8d51-3c945c65f7ef",
   "metadata": {
    "collapsed": true,
    "jupyter": {
     "outputs_hidden": true
    },
    "tags": []
   },
   "outputs": [
    {
     "name": "stdout",
     "output_type": "stream",
     "text": [
      "writer: 새회사 · f******\n",
      "review: 허리 다쳤을때 통증 가라앉으면 걷는거 해도 된다고해서 하루에 나눠서 만보씩 걸으니 두달에 3키로 빠짐\n",
      "writer: 새회사 · i*********\n",
      "작성자\n",
      "review: 스텝밀 등은 힘들까요? 사실 허리 다치기.전에 헬스장 반년 끊어놨는데.. 환불도 안 된다고 해서 가능한 운동을 찾고 있거든요ㅠㅠ\n",
      "writer: 새회사 · f******\n",
      "review: 처음에 천천히 무리없이 하면 될거같아요~\n",
      "writer: 한국전력공사\n",
      "· 수***\n",
      "review: 걷기.\n",
      "writer: 새회사 · l*********\n",
      "review: 운동병행이라고 하셨는데 필라테스는 한다고해도 전혀 체중을 줄이는데 도움이 안됩니다. 살쳐짐을 걱정하신다면 차라리 유산소와 근력운동을 하시는게 나아요. 빠르게 걷기부터 시작하시면 좋을것같네요\n",
      "writer: 새회사 · i*********\n",
      "작성자\n",
      "review: 이전 필라테스 했을때 근육량이 늘고 다이어트 효과를 좀 봤어서 여쭤봤습니다..! 걷는거 말고는 다 금진가보네요ㅠㅠ\n",
      "writer: 새회사 · l*********\n",
      "review: 금지라기보다 허리가 아프시다고 하시니 걷기 추천드리는거에요. 전 아파도 참고 그냥 하는지라 ㅎㅎ\n",
      "writer: LG전자\n",
      "· l*********\n",
      "review: 언니 무조건 식단해야하고 걷기 많이 해\n",
      "걷기가 별거 아닌거 같아도 하루 만보씩 꼬박꼬박 걸으면 빠져\n",
      "writer: 새회사 · i*********\n",
      "작성자\n",
      "review: 헬스장에서 할 수 있는 건 없을까요?ㅜ 회원권 끊어놨는데 다쳐서...ㅜㅜㅜ\n",
      "writer: LG전자\n",
      "· l*********\n",
      "review: 헬스장에서 시원하게 걸어!!!\n",
      "writer: LG전자\n",
      "· l*********\n",
      "review: 나 믿고 걸어봐요 내가 식단하면서 매일 만보씩 걷기만 했는데 10키로 빠졌어\n",
      "writer: 동진쎄미켐\n",
      "· l********\n",
      "review: 식단하고 허리안아픈 수준에서 스트레칭부터 시작해야지.괜찮아지면 걷기>그다음 강도운동해줘야지\n",
      "writer: 새회사 · i*********\n",
      "작성자\n",
      "review: 갑자기 다치니.답답하네요ㅠ 답글 감사함니다!\n",
      "writer: 동진쎄미켐\n",
      "· l********\n",
      "review: 젤약한거 부터 시작해야합니다.재활은 기본 2~3년 이예요\n",
      "writer: 새회사 · i*********\n",
      "작성자\n",
      "review: 단순 삔 거라 생각했는데ㅜㅜ 주사까지 권유받아서 맞고 할 정도면 조심햐야 하눈 거겠죠? 살빼려는 시점에 이러니 답답랬네요ㅜㅠ 식단 위주로 해보겠습니다!\n",
      "writer: 의사 · i*********\n",
      "review: 걷기, 스텝밀 해보시고 다음날 아침에 통증 있으면 강도를 줄여보세요~ 허리디스크가 맞다면 숙이는 동작이 좋진 않아요. 담날 아프면 걷기만 쭉 하시길,,\n",
      "writer: 새회사 · i*********\n",
      "작성자\n",
      "review: ㅠㅠ 감사합니다... 조절해 가면서 통증 없는 정도로만 해야겠네요ㅠ\n",
      "writer: 공무원\n",
      "· 운*******\n",
      "review: 0.물에서 걷기\n",
      "1.걷기\n",
      "writer: 새회사 · i*********\n",
      "작성자\n",
      "review: 😭😭😭😭\n",
      "writer: 금호타이어\n",
      "· 많******\n",
      "review: 통증 없어지기 전까지는 근력운동 시작해선 안돼요.\n",
      "writer: 새회사 · i*********\n",
      "작성자\n",
      "review: 두 달은 걷기만 해야겠네요ㅠㅜ 감사합니다\n",
      "Done\n"
     ]
    }
   ],
   "source": [
    "# 리뷰\n",
    "reviews_bundle = browser.find_elements_by_css_selector('.wrap-comment.comment_area')\n",
    "len(reviews_bundle)\n",
    "for review in reviews_bundle :\n",
    "    try:\n",
    "        review_writer = review.find_element_by_css_selector('p.name').text\n",
    "        review_text = review.find_element_by_css_selector('.cmt-txt').text\n",
    "        print('writer: {}'.format(review_writer))\n",
    "        print('review: {}'.format(review_text))\n",
    "    except :\n",
    "        print(str())\n",
    "print('Done')"
   ]
  },
  {
   "cell_type": "code",
   "execution_count": 50,
   "id": "bee86d1c-3c39-475d-8b3d-a14ae7216564",
   "metadata": {
    "tags": []
   },
   "outputs": [
    {
     "data": {
      "text/plain": [
       "50"
      ]
     },
     "execution_count": 50,
     "metadata": {},
     "output_type": "execute_result"
    }
   ],
   "source": [
    "# 첫 페이지에서 보여지는 리스트(50개)\n",
    "# 스크롤 하면 20개씩 증가(50->70->90...)\n",
    "reviews_standard_count = browser.find_elements_by_css_selector('.article-list-pre')\n",
    "len(reviews_standard_count)"
   ]
  },
  {
   "cell_type": "code",
   "execution_count": 57,
   "id": "41bbd828-a438-417a-a44f-ad154ae9d4b1",
   "metadata": {
    "tags": []
   },
   "outputs": [
    {
     "name": "stdout",
     "output_type": "stream",
     "text": [
      "70\n"
     ]
    }
   ],
   "source": [
    "from selenium.webdriver.common.keys import Keys\n",
    "# 화면 끝까지 이동\n",
    "screen_height = browser.execute_script('return window.innerHeight')\n",
    "document_height = browser.execute_script('return document.body.scrollHeight')\n",
    "screen_height, document_height\n",
    "\n",
    "# 글 전체 표시\n",
    "while True:\n",
    "    browser.find_element_by_css_selector('body').send_keys(Keys.PAGE_DOWN)\n",
    "    time.sleep(5)\n",
    "    # window.pageYOffset 이용\n",
    "    current_scroll_position = browser.execute_script('return window.pageYOffset + {0}'.format(screen_height))\n",
    "    # print(current_scroll_position, document_height)\n",
    "    \n",
    "    if current_scroll_position >= document_height :\n",
    "        reviews_standard_count = browser.find_elements_by_css_selector('.article-list-pre')\n",
    "        print(len(reviews_standard_count))\n",
    "        break"
   ]
  },
  {
   "cell_type": "code",
   "execution_count": 136,
   "id": "89b5852a-9ed3-4c8a-ab96-dbf6c00e6ec5",
   "metadata": {
    "tags": []
   },
   "outputs": [
    {
     "name": "stdout",
     "output_type": "stream",
     "text": [
      "title: 허리 디스크 여자 다이어트\n",
      "content: 안녕하세요!\n",
      "운동에 대해 잘 몰라서 여쭤보러고 글 남깁니다.\n",
      "\n",
      "저는 현재 매우 비만 상태고\n",
      "164/75(추정)\n",
      "운동도 거의해본 적 없는 상태라 다이어트를 하려고 했는데 허리를 다쳤어요ㅠㅠ\n",
      "\n",
      "식단으로만 빼기에는 체질 개선도 그렇고 살쳐짐도 있을 것 같아 운동을 병행하기는 해야할 거 같은데\n",
      "허리 디스크가 있는 경우 어떤 운동을 해야 하나요?ㅠ\n",
      "\n",
      "디스크는 확진 판정을 받은 건 아니고 (mri찍은 게 아니어서..)\n",
      "허리를 삐끗해서 정형외과 갔고\n",
      "현재 약물 및 물리치료 1번 받고 한의원 갔다가 효과가 없어서 정형외과에서 허리 주사를 한 번 받았습니다.\n",
      "\n",
      "통증은 거의 사라졌지만 자세 신경쓰고 쉬어서 그런거 같거 움직이면 약한 통증은 있어서 주사 한 번 더 맞을 거 같아요..\n",
      "\n",
      "이런 경우 어떤 운동을 할 수 있을까요?\n",
      "\n",
      "헬스장 런닝머신이나 스텝밀(천국의 계단)은 해도 될까요..?\n",
      "아니면 필라테스 등으로 자세를 교정하는 게 좋을까요?\n",
      "\n",
      "조언 부탁드리겠습니다! ㅠㅠ\n",
      "writer: 새회사 · f******\n",
      "review: 허리 다쳤을때 통증 가라앉으면 걷는거 해도 된다고해서 하루에 나눠서 만보씩 걸으니 두달에 3키로 빠짐\n",
      "writer: 새회사 · i*********\n",
      "작성자\n",
      "review: 스텝밀 등은 힘들까요? 사실 허리 다치기.전에 헬스장 반년 끊어놨는데.. 환불도 안 된다고 해서 가능한 운동을 찾고 있거든요ㅠㅠ\n",
      "writer: 새회사 · f******\n",
      "review: 처음에 천천히 무리없이 하면 될거같아요~\n",
      "writer: 한국전력공사\n",
      "· 수***\n",
      "review: 걷기.\n",
      "writer: 새회사 · l*********\n",
      "review: 운동병행이라고 하셨는데 필라테스는 한다고해도 전혀 체중을 줄이는데 도움이 안됩니다. 살쳐짐을 걱정하신다면 차라리 유산소와 근력운동을 하시는게 나아요. 빠르게 걷기부터 시작하시면 좋을것같네요\n",
      "writer: 새회사 · i*********\n",
      "작성자\n",
      "review: 이전 필라테스 했을때 근육량이 늘고 다이어트 효과를 좀 봤어서 여쭤봤습니다..! 걷는거 말고는 다 금진가보네요ㅠㅠ\n",
      "writer: 새회사 · l*********\n",
      "review: 금지라기보다 허리가 아프시다고 하시니 걷기 추천드리는거에요. 전 아파도 참고 그냥 하는지라 ㅎㅎ\n",
      "writer: LG전자\n",
      "· l*********\n",
      "review: 언니 무조건 식단해야하고 걷기 많이 해\n",
      "걷기가 별거 아닌거 같아도 하루 만보씩 꼬박꼬박 걸으면 빠져\n",
      "writer: 새회사 · i*********\n",
      "작성자\n",
      "review: 헬스장에서 할 수 있는 건 없을까요?ㅜ 회원권 끊어놨는데 다쳐서...ㅜㅜㅜ\n",
      "writer: LG전자\n",
      "· l*********\n",
      "review: 헬스장에서 시원하게 걸어!!!\n",
      "writer: LG전자\n",
      "· l*********\n",
      "review: 나 믿고 걸어봐요 내가 식단하면서 매일 만보씩 걷기만 했는데 10키로 빠졌어\n",
      "writer: 동진쎄미켐\n",
      "· l********\n",
      "review: 식단하고 허리안아픈 수준에서 스트레칭부터 시작해야지.괜찮아지면 걷기>그다음 강도운동해줘야지\n",
      "writer: 새회사 · i*********\n",
      "작성자\n",
      "review: 갑자기 다치니.답답하네요ㅠ 답글 감사함니다!\n",
      "writer: 동진쎄미켐\n",
      "· l********\n",
      "review: 젤약한거 부터 시작해야합니다.재활은 기본 2~3년 이예요\n",
      "writer: 새회사 · i*********\n",
      "작성자\n",
      "review: 단순 삔 거라 생각했는데ㅜㅜ 주사까지 권유받아서 맞고 할 정도면 조심햐야 하눈 거겠죠? 살빼려는 시점에 이러니 답답랬네요ㅜㅠ 식단 위주로 해보겠습니다!\n",
      "writer: 의사 · i*********\n",
      "review: 걷기, 스텝밀 해보시고 다음날 아침에 통증 있으면 강도를 줄여보세요~ 허리디스크가 맞다면 숙이는 동작이 좋진 않아요. 담날 아프면 걷기만 쭉 하시길,,\n",
      "writer: 새회사 · i*********\n",
      "작성자\n",
      "review: ㅠㅠ 감사합니다... 조절해 가면서 통증 없는 정도로만 해야겠네요ㅠ\n",
      "writer: 공무원\n",
      "· 운*******\n",
      "review: 0.물에서 걷기\n",
      "1.걷기\n",
      "writer: 새회사 · i*********\n",
      "작성자\n",
      "review: 😭😭😭😭\n",
      "writer: 금호타이어\n",
      "· 많******\n",
      "review: 통증 없어지기 전까지는 근력운동 시작해선 안돼요.\n",
      "writer: 새회사 · i*********\n",
      "작성자\n",
      "review: 두 달은 걷기만 해야겠네요ㅠㅜ 감사합니다\n",
      "title: 디스크\n",
      "content: 지인분이 디스크때문에 오른쪽 발가락쪽에 감각이 무디다는데 디스크 주사나 이런거 효과 있을까?\n",
      "\n",
      "운동이나 이런걸로 재활치료 힘들려나..?\n",
      "writer: NAVER\n",
      "· I*********\n",
      "review: 피티로 코어만 조지니깐 안아프더라\n",
      "writer: 새회사 · 치*****\n",
      "review: 의사는 아니지만… 아침에 갑자기 허리 디스크로 걷지도 못하던 사람이 자생 가서 일주일 입원하구 6년간 무탈해 돈이 많이 나가서 그렇지~\n",
      "writer: 수협중앙회\n",
      "· i*********\n",
      "작성자\n",
      "review: 자생입원하면 뭐해줘? 수술은 아니지?\n",
      "writer: 새회사 · 치*****\n",
      "review: 응 수술 없이 양방치료 한방치료 같이 하는데\n",
      "한방치료 중에 약침? 봉침 뭐 그런게 있어~\n",
      "너처럼 발꾸락 찌릿하고 저리다가 순간 허리 나간 케이스 ~ 참고루 사람마다 다르겠지만 실비두 양방은 되는데 한방 안나와서 380 정도였는데 140은 한방이라 내가 냄~\n",
      "writer: 수협중앙회\n",
      "· i*********\n",
      "작성자\n",
      "review: 고마웡!! 자생병원 한번 알아봐야겠다\n",
      "writer: 의사 · i******\n",
      "review: 자생가서 침맞어\n",
      "writer: 스타트업 · v*******\n",
      "review: 왜 그렇게 말씀 하신지 물어봐도 될까요? 저도 디스크로 고생하고 있는데 한약치료를 받을지 신경주사를 한 번 더 맞을지 고민되서요.\n",
      "title: 디스크\n",
      "content: 마지막 디스크 쪼꼼 흘러나와서 엉덩이쪽 찌릿한데\n",
      "주사 한번 맞았거든\n",
      "\n",
      "더 주사 맞긴 싫고 운동으로 혼자 나아보고싶은데\n",
      "미련한걸까?\n",
      "헬스 2년? 꾸준히 해왓고\n",
      "스텝퍼랑 런지, 데드 제일 좋아하는 운동인데\n",
      "살살 해도 괜찮지? 자세 잘 잡고\n",
      "\n",
      "나 무게 무리해서 치거나 한적 없고\n",
      "\n",
      "요즘 슬리퍼 블로퍼 이런거 많이 신고 다니고\n",
      "또 침대 매트리스 바뀐게 원인인거같거든\n",
      "\n",
      "의사쌤은 아프시면 주사 맞으시고~\n",
      "도수 받고싶으면 받으시고~\n",
      "살살 걷기 하세요~\n",
      "\n",
      "이정도로만 말해주시니 답답하네\n",
      "\n",
      "사실은 ㅋㅋㅋ헬스 하고싶어서ㅠ 안하니까 근질거려 ㅠㅠㅠㅠㅠ\n",
      "writer: 의사 · j*********\n",
      "review: 허리 안쓰면 낫긴해\n",
      "writer: 새회사 · l*********\n",
      "작성자\n",
      "review: 아?! 안써야해?? 운동을 해서 좀 단디 해야하는줄 알았어..\n",
      "writer: 카카오뱅크\n",
      "· 눈****\n",
      "review: 허리가 다친순간 허리 숙이는 동작 자체가 독이야 형... 데드는 자세 잘잡고 한다고 해도 건강한 사람 아니고는 데미지 쌓이다 터져 5세트하면 1세트씩만 잘못해도... 조심혀\n",
      "writer: 새회사 · l*********\n",
      "작성자\n",
      "review: 아우,, 그럼 통증 사라질때까지 허리 굽히는건 하지말고,,\n",
      "writer: 새회사 · l*********\n",
      "작성자\n",
      "review: 런지 스쿼트 이런거도 위험하겟네?\n",
      "writer: 새회사 · l*********\n",
      "작성자\n",
      "review: 복근은 그럼 뭐로해야할까\n",
      "나 헹레레 조아하는데..\n"
     ]
    },
    {
     "ename": "NoSuchElementException",
     "evalue": "Message: no such element: Unable to locate element: {\"method\":\"css selector\",\"selector\":\"div.article-view-head > h2\"}\n  (Session info: chrome=116.0.5845.180)\n",
     "output_type": "error",
     "traceback": [
      "\u001b[1;31m---------------------------------------------------------------------------\u001b[0m",
      "\u001b[1;31mNoSuchElementException\u001b[0m                    Traceback (most recent call last)",
      "Cell \u001b[1;32mIn[136], line 13\u001b[0m\n\u001b[0;32m     11\u001b[0m time\u001b[38;5;241m.\u001b[39msleep(\u001b[38;5;241m2\u001b[39m)\n\u001b[0;32m     12\u001b[0m  \u001b[38;5;66;03m# 글에 대한 정보 가져오기(제목, 내용, 리뷰)\u001b[39;00m\n\u001b[1;32m---> 13\u001b[0m title_name \u001b[38;5;241m=\u001b[39m browser\u001b[38;5;241m.\u001b[39mfind_element_by_css_selector(\u001b[38;5;124m'\u001b[39m\u001b[38;5;124mdiv.article-view-head > h2\u001b[39m\u001b[38;5;124m'\u001b[39m)\u001b[38;5;241m.\u001b[39mtext\n\u001b[0;32m     14\u001b[0m content \u001b[38;5;241m=\u001b[39m browser\u001b[38;5;241m.\u001b[39mfind_element_by_css_selector(\u001b[38;5;124m'\u001b[39m\u001b[38;5;124m.contents-txt\u001b[39m\u001b[38;5;124m'\u001b[39m)\u001b[38;5;241m.\u001b[39mtext\n\u001b[0;32m     15\u001b[0m \u001b[38;5;28mprint\u001b[39m(\u001b[38;5;124m'\u001b[39m\u001b[38;5;124mtitle: \u001b[39m\u001b[38;5;132;01m{}\u001b[39;00m\u001b[38;5;124m'\u001b[39m\u001b[38;5;241m.\u001b[39mformat(title_name))\n",
      "File \u001b[1;32m~\\anaconda3\\Lib\\site-packages\\selenium\\webdriver\\remote\\webdriver.py:598\u001b[0m, in \u001b[0;36mWebDriver.find_element_by_css_selector\u001b[1;34m(self, css_selector)\u001b[0m\n\u001b[0;32m    582\u001b[0m \u001b[38;5;28;01mdef\u001b[39;00m \u001b[38;5;21mfind_element_by_css_selector\u001b[39m(\u001b[38;5;28mself\u001b[39m, css_selector):\n\u001b[0;32m    583\u001b[0m \u001b[38;5;250m    \u001b[39m\u001b[38;5;124;03m\"\"\"\u001b[39;00m\n\u001b[0;32m    584\u001b[0m \u001b[38;5;124;03m    Finds an element by css selector.\u001b[39;00m\n\u001b[0;32m    585\u001b[0m \n\u001b[1;32m   (...)\u001b[0m\n\u001b[0;32m    596\u001b[0m \u001b[38;5;124;03m        element = driver.find_element_by_css_selector('#foo')\u001b[39;00m\n\u001b[0;32m    597\u001b[0m \u001b[38;5;124;03m    \"\"\"\u001b[39;00m\n\u001b[1;32m--> 598\u001b[0m     \u001b[38;5;28;01mreturn\u001b[39;00m \u001b[38;5;28mself\u001b[39m\u001b[38;5;241m.\u001b[39mfind_element(by\u001b[38;5;241m=\u001b[39mBy\u001b[38;5;241m.\u001b[39mCSS_SELECTOR, value\u001b[38;5;241m=\u001b[39mcss_selector)\n",
      "File \u001b[1;32m~\\anaconda3\\Lib\\site-packages\\selenium\\webdriver\\remote\\webdriver.py:976\u001b[0m, in \u001b[0;36mWebDriver.find_element\u001b[1;34m(self, by, value)\u001b[0m\n\u001b[0;32m    974\u001b[0m         by \u001b[38;5;241m=\u001b[39m By\u001b[38;5;241m.\u001b[39mCSS_SELECTOR\n\u001b[0;32m    975\u001b[0m         value \u001b[38;5;241m=\u001b[39m \u001b[38;5;124m'\u001b[39m\u001b[38;5;124m[name=\u001b[39m\u001b[38;5;124m\"\u001b[39m\u001b[38;5;132;01m%s\u001b[39;00m\u001b[38;5;124m\"\u001b[39m\u001b[38;5;124m]\u001b[39m\u001b[38;5;124m'\u001b[39m \u001b[38;5;241m%\u001b[39m value\n\u001b[1;32m--> 976\u001b[0m \u001b[38;5;28;01mreturn\u001b[39;00m \u001b[38;5;28mself\u001b[39m\u001b[38;5;241m.\u001b[39mexecute(Command\u001b[38;5;241m.\u001b[39mFIND_ELEMENT, {\n\u001b[0;32m    977\u001b[0m     \u001b[38;5;124m'\u001b[39m\u001b[38;5;124musing\u001b[39m\u001b[38;5;124m'\u001b[39m: by,\n\u001b[0;32m    978\u001b[0m     \u001b[38;5;124m'\u001b[39m\u001b[38;5;124mvalue\u001b[39m\u001b[38;5;124m'\u001b[39m: value})[\u001b[38;5;124m'\u001b[39m\u001b[38;5;124mvalue\u001b[39m\u001b[38;5;124m'\u001b[39m]\n",
      "File \u001b[1;32m~\\anaconda3\\Lib\\site-packages\\selenium\\webdriver\\remote\\webdriver.py:321\u001b[0m, in \u001b[0;36mWebDriver.execute\u001b[1;34m(self, driver_command, params)\u001b[0m\n\u001b[0;32m    319\u001b[0m response \u001b[38;5;241m=\u001b[39m \u001b[38;5;28mself\u001b[39m\u001b[38;5;241m.\u001b[39mcommand_executor\u001b[38;5;241m.\u001b[39mexecute(driver_command, params)\n\u001b[0;32m    320\u001b[0m \u001b[38;5;28;01mif\u001b[39;00m response:\n\u001b[1;32m--> 321\u001b[0m     \u001b[38;5;28mself\u001b[39m\u001b[38;5;241m.\u001b[39merror_handler\u001b[38;5;241m.\u001b[39mcheck_response(response)\n\u001b[0;32m    322\u001b[0m     response[\u001b[38;5;124m'\u001b[39m\u001b[38;5;124mvalue\u001b[39m\u001b[38;5;124m'\u001b[39m] \u001b[38;5;241m=\u001b[39m \u001b[38;5;28mself\u001b[39m\u001b[38;5;241m.\u001b[39m_unwrap_value(\n\u001b[0;32m    323\u001b[0m         response\u001b[38;5;241m.\u001b[39mget(\u001b[38;5;124m'\u001b[39m\u001b[38;5;124mvalue\u001b[39m\u001b[38;5;124m'\u001b[39m, \u001b[38;5;28;01mNone\u001b[39;00m))\n\u001b[0;32m    324\u001b[0m     \u001b[38;5;28;01mreturn\u001b[39;00m response\n",
      "File \u001b[1;32m~\\anaconda3\\Lib\\site-packages\\selenium\\webdriver\\remote\\errorhandler.py:242\u001b[0m, in \u001b[0;36mErrorHandler.check_response\u001b[1;34m(self, response)\u001b[0m\n\u001b[0;32m    240\u001b[0m         alert_text \u001b[38;5;241m=\u001b[39m value[\u001b[38;5;124m'\u001b[39m\u001b[38;5;124malert\u001b[39m\u001b[38;5;124m'\u001b[39m]\u001b[38;5;241m.\u001b[39mget(\u001b[38;5;124m'\u001b[39m\u001b[38;5;124mtext\u001b[39m\u001b[38;5;124m'\u001b[39m)\n\u001b[0;32m    241\u001b[0m     \u001b[38;5;28;01mraise\u001b[39;00m exception_class(message, screen, stacktrace, alert_text)\n\u001b[1;32m--> 242\u001b[0m \u001b[38;5;28;01mraise\u001b[39;00m exception_class(message, screen, stacktrace)\n",
      "\u001b[1;31mNoSuchElementException\u001b[0m: Message: no such element: Unable to locate element: {\"method\":\"css selector\",\"selector\":\"div.article-view-head > h2\"}\n  (Session info: chrome=116.0.5845.180)\n"
     ]
    }
   ],
   "source": [
    "from selenium.webdriver.common.keys import Keys\n",
    "# 화면 끝까지 이동\n",
    "screen_height = browser.execute_script('return window.innerHeight')\n",
    "document_height = browser.execute_script('return document.body.scrollHeight')\n",
    "screen_height, document_height\n",
    "\n",
    "# 글 리스트 가져오기\n",
    "for clicker in range(2, 50):\n",
    "    click_path = '#wrap > section > div > div > div.article-list > div:nth-child({})'.format(clicker)\n",
    "    browser.find_element_by_css_selector(click_path).click()\n",
    "    time.sleep(2)\n",
    "     # 글에 대한 정보 가져오기(제목, 내용, 리뷰)\n",
    "    title_name = browser.find_element_by_css_selector('div.contents > div.article-view-head > h2 ').text\n",
    "    content = browser.find_element_by_css_selector('.contents-txt').text\n",
    "    print('title: {}'.format(title_name))\n",
    "    print('content: {}'.format(content))\n",
    "    reviews_bundle = browser.find_elements_by_css_selector('.wrap-comment.comment_area')\n",
    "    for review in reviews_bundle :\n",
    "        try:\n",
    "            review_writer = review.find_element_by_css_selector('p.name').text\n",
    "            review_text = review.find_element_by_css_selector('.cmt-txt').text\n",
    "            print('writer: {}'.format(review_writer))\n",
    "            print('review: {}'.format(review_text))\n",
    "        except :\n",
    "            print(str())\n",
    "\n",
    "    browser.back() # 리스트로 돌아가기\n",
    "    time.sleep(3)\n",
    "    \n",
    "    #스크롤\n",
    "#     while True:\n",
    "#         browser.find_element_by_css_selector('body').send_keys(Keys.PAGE_DOWN)\n",
    "#         time.sleep(5)\n",
    "#         # window.pageYOffset 이용\n",
    "#         current_scroll_position = browser.execute_script('return window.pageYOffset + {0}'.format(screen_height))\n",
    "#         # print(current_scroll_position, document_height)\n",
    "\n",
    "#         if current_scroll_position >= document_height :\n",
    "#             reviews_standard_count = browser.find_elements_by_css_selector('.article-list-pre')\n",
    "#             print(len(reviews_standard_count))\n",
    "#             break\n",
    "        \n",
    "print('Done')"
   ]
  },
  {
   "cell_type": "code",
   "execution_count": null,
   "id": "9892cfb7-3fa2-4ade-a464-c6053ea486e3",
   "metadata": {},
   "outputs": [],
   "source": [
    "# browser.back() # 리스트로 돌아가기"
   ]
  },
  {
   "cell_type": "code",
   "execution_count": null,
   "id": "801fddb5-9173-41e6-965c-f9cfc7463f41",
   "metadata": {
    "tags": []
   },
   "outputs": [],
   "source": [
    "# browser.quit()"
   ]
  }
 ],
 "metadata": {
  "kernelspec": {
   "display_name": "Python 3 (ipykernel)",
   "language": "python",
   "name": "python3"
  },
  "language_info": {
   "codemirror_mode": {
    "name": "ipython",
    "version": 3
   },
   "file_extension": ".py",
   "mimetype": "text/x-python",
   "name": "python",
   "nbconvert_exporter": "python",
   "pygments_lexer": "ipython3",
   "version": "3.11.3"
  }
 },
 "nbformat": 4,
 "nbformat_minor": 5
}
