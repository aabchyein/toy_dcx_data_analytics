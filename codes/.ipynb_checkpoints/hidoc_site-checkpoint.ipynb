{
 "cells": [
  {
   "cell_type": "markdown",
   "id": "f5be77a3-8003-4f76-aa12-1cdaaffcdc34",
   "metadata": {},
   "source": [
    "# scrapping 대상 사이트\n",
    "1. 블라인드 : https://www.teamblind.com/kr/search/%EB%94%94%EC%8A%A4%ED%81%AC\n",
    "2. 하이닥 : https://www.hidoc.co.kr/integratesearch/searchhealthqnalist?query=%EB%94%94%EC%8A%A4%ED%81%AC&page=1\n",
    "3. 클리앙 : https://www.clien.net/service/search?q=%EB%94%94%EC%8A%A4%ED%81%AC&sort=recency&p=10&boardCd=&isBoard=false"
   ]
  },
  {
   "cell_type": "code",
   "execution_count": 1,
   "id": "49ccd436-7776-48d0-975b-db9d0eac5915",
   "metadata": {
    "tags": []
   },
   "outputs": [],
   "source": [
    "from selenium import webdriver\n",
    "import time"
   ]
  },
  {
   "cell_type": "code",
   "execution_count": 2,
   "id": "2ceb7591-d618-4fb3-85d0-042e88d41f18",
   "metadata": {
    "tags": []
   },
   "outputs": [],
   "source": [
    "# open chrome browser\n",
    "browser = webdriver.Chrome(executable_path='../../chromedriver.exe')"
   ]
  },
  {
   "cell_type": "markdown",
   "id": "f4a69d9a-d414-4924-9932-6d80be9497a0",
   "metadata": {},
   "source": [
    "## 1. 하이닥 사이트\n",
    "- title tag : div.article-view-head > h2\n",
    "- content tag : \n",
    "- review tag : "
   ]
  },
  {
   "cell_type": "code",
   "execution_count": 3,
   "id": "b64dfcfe-3413-40a0-b088-a0ba7f2028d7",
   "metadata": {
    "tags": []
   },
   "outputs": [],
   "source": [
    "browser.get('https://www.hidoc.co.kr/integratesearch/searchhealthqnalist?query=%EB%94%94%EC%8A%A4%ED%81%AC&page=1')"
   ]
  },
  {
   "cell_type": "code",
   "execution_count": 4,
   "id": "4e15c786-3c1b-413b-81c0-ad5d569fb996",
   "metadata": {
    "tags": []
   },
   "outputs": [],
   "source": [
    "browser.implicitly_wait(10)"
   ]
  },
  {
   "cell_type": "markdown",
   "id": "5a9624bd-6dad-48ec-99aa-84103dbe880f",
   "metadata": {},
   "source": [
    "### 게시글 클릭\n",
    "- #wrap > section > div > div > div.article-list > div"
   ]
  },
  {
   "cell_type": "code",
   "execution_count": 5,
   "id": "df913998-3a16-47c8-95c8-e04221440618",
   "metadata": {
    "tags": []
   },
   "outputs": [],
   "source": [
    "click_path = 'div.coll_info > ul > li:nth-child(1) > a > b'\n",
    "browser.find_element_by_css_selector(click_path).click()"
   ]
  },
  {
   "cell_type": "code",
   "execution_count": 6,
   "id": "e8473396-3b31-436c-9f39-ebd6727ef9ba",
   "metadata": {
    "tags": []
   },
   "outputs": [],
   "source": [
    "title_name = browser.find_element_by_css_selector('div.box_type1.view_question > div.inner > strong').text\n",
    "content = browser.find_element_by_css_selector('div.box_type1.view_question > div.inner > div.desc > p').text\n",
    "review = browser.find_element_by_css_selector('div.cont > div:nth-child(1)').text\n",
    "\n",
    "basket = [title_name, content, review]"
   ]
  },
  {
   "cell_type": "code",
   "execution_count": 7,
   "id": "222500af-f515-445f-aae3-b67e4dd04fd7",
   "metadata": {
    "tags": []
   },
   "outputs": [],
   "source": [
    "browser.back()"
   ]
  },
  {
   "cell_type": "code",
   "execution_count": 8,
   "id": "78e4ffdb-bf84-44d3-b527-5febe5b01bc6",
   "metadata": {},
   "outputs": [],
   "source": [
    "# for clicker in range(1, 21) :\n",
    "#     try:\n",
    "#         click_path = 'div.coll_info > ul > li:nth-child({}) > a > b'.format(clicker)\n",
    "#         browser.find_element_by_css_selector(click_path).click()\n",
    "#         title_name = browser.find_element_by_css_selector('div.box_type1.view_question > div.inner > strong').text\n",
    "#         content = browser.find_element_by_css_selector('div.box_type1.view_question > div.inner > div.desc > p').text\n",
    "#         review = browser.find_element_by_css_selector('div.cont > div:nth-child(1)').text\n",
    "\n",
    "#         print('title: {}, content:{}'.format(title_name, content))\n",
    "#         print('review:{}'.format(review))\n",
    "        \n",
    "#         time.sleep(3)\n",
    "#         browser.back()\n",
    "#     except:\n",
    "#         pass"
   ]
  },
  {
   "cell_type": "code",
   "execution_count": 9,
   "id": "e221054f-d412-4a76-872c-8b998ccbf575",
   "metadata": {
    "tags": []
   },
   "outputs": [],
   "source": [
    "# #paginations\n",
    "# for page_number in range(2, 11):\n",
    "#     element_path = 'div.paging_type1 > span > a:nth-child({})'.format(page_number)\n",
    "#     try:\n",
    "#         pagination = browser.find_element_by_css_selector(element_path)\n",
    "#         pagination.click()\n",
    "#         print('성공 : {}'.format(element_path))\n",
    "#         time.sleep(3)\n",
    "#     except:\n",
    "#         print('실패 : {}'.format(element_path))\n",
    "#         pass\n",
    "# element_next_path = 'div.paging_type1 > span > a.ico_comm.btn_next'\n",
    "# next_pagination = browser.find_element_by_css_selector(element_next_path).click()"
   ]
  },
  {
   "cell_type": "code",
   "execution_count": 13,
   "id": "cfc4eb57-4c1b-4890-9286-9086a80bb781",
   "metadata": {
    "tags": []
   },
   "outputs": [
    {
     "name": "stdout",
     "output_type": "stream",
     "text": [
      "실패 : div.paging_type1 > span > a:nth-child(2)\n",
      "[['정말 목디스크인 걸까요??', '스트레스를 극심하게 받았는데 두달전부터 왼쪽 어깨가 작열감드는 것처럼 쓰라린 통증을 받았거든요\\n그러다가 한달 정도 지나니 그런 통증은 사라졌는데\\n간헐적으로 왼팔 부근이 전기 통하듯 찌릿한 느낌이 있고\\n이제는 손목이나 팔꿈치 쪽이 욱신욱신거리고 엄지에서 검지 손가락이 가끔 찌릿찌릿하더라구요\\n목디스크 초기증상일까요? 아직까진 큰 불편함은 없는데\\n혹시 심장질환일까봐 불쾌하고 불안합니다\\n20대 중반인데 목디스크 증상 올 수도 있나요?', '안녕하세요, 하이닥 정형외과 상담의 양성석 입니다.\\n\\n호소하신 증상으로 어깨 및 팔꿈치 손목 엄지, 검지 쪽으로 저린 듯한 방사통은 목디스크로 발생가능합니다. 경추 6번 신경의 압박 있을 때 나타나는 증상입니다. 목을 틀었을 때 찌릿하거나하면 디스크 관련성 높습니다. 20대이지만 디스크 발생할 수 있습니다. 스트레칭, 소염제 등으로 호전된다면 지켜보시고, 증상이 점점 심해진다면 MRI 검사를 시행해보십시요.  또한, 협심증 등의 심장증상이 있어도 연관통으로 좌측 상지 쪽으로 통증이 올 수 있습니다. 가슴이 조이는 듯한 통증이 발생하거나, 운동관련하여 증상이 악화되거나 하면 심장질환 가능성도 있으니 심장내과 진료를 받아보십시요.\\n\\n감사합니다.'], ['경추 디스크 관련', '안녕하세요.저는 35세의 여성이고 작년 추석때쯤 정차해 있는중 후방 추돌 교통사고(차량 반파)를 당하였고 수일뒤 손저림과 팔안쪽으로 저린 증상 및 찌릿찌릿 한 통증 으로 인해 mri를 찍게 되었고 5-6 경추 디스크 사이가 부었다는 얘기를 들었습니다.\\n당시 의사 선생님 말씀으로는 디스크가 부었지만 신경은 건드리지 않았다고 했었습니다.\\n두달 정도 물리치료 받고 상태가 좋아지는듯 싶었는데 요즘 증상이 또 재발하고 있습니다. 주증상들은 손저림과 팔저림(특히 자고 일어났을때 손가락 4번째손가락과 5번째 손가락이 저리고 찹니다. 손이 시려요ㅜㅜ),\\n팔을 주먹으로 맞은듯한 통증, 등과 가슴쪽으로 찌릿하게 퍼지는 통증, 목 뒤쪽으로 찌릿하고 당기는 듯한 통증 등을 동반하고 있는데 디스크가 붓기만 해도 이럴수 있나요? 그리고 부은 디스크는 치료가 안되는 것인가요?\\n그리고 많이 걷거나 헬쓰 클럽에서 운동을 한 날은 더 아픈거 같아요. 그럴수 있는 건가요?\\n소중한 말씀 부탁 드리겠습니다.^^', '안녕하세요, 하이닥 신경외과 상담의 최종문 입니다.\\n\\n기술해주신 내용으로 판단컨대, 초기 디스크정도의 진단을 받으신것으로 보입니다.\\n현재 증상은 약물 치료, 물리치료, 보조기 착용 등으로 보존적치료가 필요할 것으로 보입니다.\\n\\n물리 치료로는 온열 치료, 심부 초음파 치료, 전기 자극 치료, 견인 등의 방법이\\n효과적인 것으로 알려져 있습니다.\\n\\n통증이 심할때는 주사치료로 통증완화에 도움이 될 수도 있습니다.\\n\\n감사합니다.'], ['허리 경직 , 허리디스크', '안녕하세요, 저는 허리 경직(강직) 증상이 심합니다. 허리 디스크 판정을 받은 지 10년 정도 지난 상태고, 지금은 ct를 찍으면 디스크는 없고 뼈 끝?의 각진부분이 마모되었다고 합니다.\\n그런데 1년 전 부터 허리 강직 현상이 나타납니다. 하루 1~2회 정도 발생하고, 허리가 찌르르하고 굳어지는 느낌이 듭니다. 한 1~2분 정도면 통증이 사라집니다. 왜 이런 통증이 나타나는 걸까요?\\n그리고 요즘 요가를 하러 다닌지 2주 정도 됬는데 이 증상 완화에 도움이 될까요? 감사합니다.', '안녕하세요, 하이닥 정형외과 상담의 유호섭 입니다.\\n디스크 병력이 있는 등 허리가 안 좋은 상태이니 나이가 들면서 점차 척추의 퇴행성 변화가 심해지면서 그럴 수 있습니다.\\n혹, 다른 질환과 연관되는 경우가 있으니 정형외과에 가셔서 진찰 및 적절한 검사가를 다시해보시는것도 필요할 것 같습니다.\\n일상에서 자주 스트레칭과 규칙적인 운동이 좋으며 무리가 안되는 범위내에서 요가도 도음이 될 수 있겠습니다. 감사합니다.'], ['목디스크 증상', '1. 6월달부터 오른쪽 어깨 승모근과 날개뼈 쪽이 뭉친듯 아프고 고개를 뒤로 젖히면 오른쪽 어깨가 엄청아픔\\n\\n2. 최근들어서도 아프고 현재 오른쪽 팔 부분이 이질감이 느껴지고 무거운 느낌이 들며 근육통같은 비슷한 느낌이 듦\\n\\n3. 엑스레이는 어제 찍었는데 일자목과 거북목이라는 소견\\n\\n4. 목을 뒤로 젖히면 오른쪽 귀가 가끔 먹먹해짐을 느낌\\n\\n5. 가끔 오른쪽 눈도 아픔\\n\\n\\nMri 찍어봐야할까요? 설령 찍어서 목디스크라고하면 어떤 치료를 받아야 적합할까여ㅠ', '안녕하세요. 하이닥 정형외과 상담의 박찬덕입니다.\\n\\n단순한 일자목 거북목 이라고 보기에는 신경 자극 증상이 있어서 MRI 검사를 보시는 것이 좋겠습니다.\\n목디스크에 대한 치료는 MRI 소견이 중요 합니다. MRI상 디스크가 얼마나 튀어 나와 있는지, 신경이 얼마나 압박을 받고 있는지를 확인 하고 그 정도에 따라서 치료 방법을 결정 하셔야 합니다.'], ['인공디스크 관련 문의.', '', '안녕하십니까?하이닥 신경외과 상담의 김정희입니다.\\n\\n질문1.\\n인공디스크나 척추유합술을 확 해버릴까 하는 욕심이 생깁니다..\\n생활에 상당한 지장을 미칠 정도라서요.\\n이런 생각이 위험한 생각일까요?\\n고견을 부탁드립니다.\\n\\n->현재 증상이 과거 수술 보다 얼마나 향상되었는지 판단해야 하고 무엇보다도 현재 디스크의 재발이 있는 지 여부를 봐야하는 데 전문의 진료 및 검사가 필요합니다.\\n디스크 제거 이 후 재발소견이 명확하고 기타 다른 시술적 치료로 치료하기 어려운 경우는 상기 말씀 하신대로 유합술도 고려해 볼 수 있는 데 현재의\\n상태가 오리무중이라  이런 생각이 위험한 것은 아니고 환자분 스스로 치료를 하기 위한 생각으로 판단됩니다.\\n그러기에 치료 부분은 아무래도 여러 전문가 분과 상의를 하신 후 결정하는 편이 좋을 것으로 판단됩니다.  무엇보다도 모두 그런 것은 아니지마 고정술등 이 후 요통등이 발생할 수 있다는 것도 고려해 봐야 하며 지금보다 더 좋지\\n않은 상황이 될 수 있다는 것을 고려해 봐야 합니다.\\n\\n질문2.\\n\\n허리디스크 수술(현미경수술)을 경험한 환자도 재발시에\\n신경성형술, 수핵성형술등의 시술과 감압치료(견인치료?) 등등의\\n각종 보존치료가 모두 적용이 가능한지 궁금합니다.\\n그리고 그것도 안될 경우에 내시경수술 치료가 가능한지도 궁금합니다.\\n\\n->보존 시술은 모두 가능합니다. 단 비용이 만만하지 않을 것입니다.\\n비보험재료가 많기 때문이지요. 물론 내시경으로도 가능합니다.\\n다시 재발할 가능성도 배제할 수 없지만 어찌 되었건 여러 치료가 같이\\n수반되어야 하는 데 척추라는 것은 하나의 구조이고 시간이 지나고 나이를\\n먹으면 퇴행한다는 것을 숙지하시고 현재의 상태에서 가장 적절한 치료 방법을 모색해야 합니다.\\n\\n\\n\\n질문3.\\n\\n만약에 인공디스크 수술을 하게 된다면..\\n그리고 차후에 수술이 잘못되거나, 인공디스크에 문제가 생기면\\n유합술로 변경이 가능한지 궁금합니다.\\n그리고 저는 만약 수술을 하게 된다면 Prod*** 제품으로 수술을 받고 싶은데요..제품을 환자가 이렇게 선택할 수가 있는지,\\n아니면 의사 선생님마다 사용하는 제품이 정해져 있는지 궁금합니다.\\n그리고 Prod*** 제품은 가운데에 합성수지로 된 인공디스크 부품?\\n이 있더라구요. 근데 제가 제품을 실제로 본건 아니라 자세히\\n볼수가 없어서요.. 이 제품은 중간에 합성수지? 로 된 부품이 있던데..\\n이 부분이 깨지거나 하면 간단하게 교체가 가능한가요?\\n그리고 이 경우에 쇠끼리 부딪히지는 않으니 마모되어\\n가루가 날리는? 것과 같은 걱정은 하지 않아도 되는 것인지요.\\n\\n->현재 말씀하신 제품은 어디서 알게 되셨는 지 아무튼 신** 회사 제품으로\\n보이는 데요 인공디스크 중 운동성(Motion- 최대 11도)이 있는 것이고 최근에도 새로운 제품을이 계속 나오고 있는 상태입니다.\\n기본 개념을 말씀 드리면 두가지 모두다 질환 부위 상하 부위를 붙이는 방법이라 생각하시면 됩니다. 인공디스크로 치환술을 하거나 융합술을 하거나\\n모두 큰 차이가 없다는 보고도 있고 지속적으로 추적중에 있는 상태입니다.\\n\\n인공디스크의 경우 대부분 비보험이라는 것도 감안하시기 바랍니다.\\n또한 허리 부위를 수술 하기 위해서는 앞으로 접근해야 합니다.\\n여러 부작용도 충분히 상기해야 합니다.\\n제품이 부식되거나 중간부분이 손상되었을 경우 다시 제거하고 새것으로\\n넣는 수술을 해야하고 처음보다 더 힘들게 되며 아직 까지는 그런 케이스가 없는 것으로 보입니다. 단 전후방으로 이동되는 경우는 있을 수 있습니다.\\n\\n어떤 상황이 초래되더라도 재수술을 해야 합니다.\\n목보다는 허리 부위 운동성 있는 디스크의 경우 견고하고 튼튼하게 만들어지는 것으로 알고 있습니다. 그런 가루가 날린다는 문제들은 장비에서 유래한 합병증으로 보고 되고 있는 것도 있습니다.\\n\\n\\n질문4.\\n\\n의사샘이 MRI 찍자고 했을 때, 그 병원 말고 다른 곳에서\\n찍어올 수 있게 소견서좀 써달라고 하면 기분이 나쁠까요?\\n그리고 소견서만 있으면 되는지,\\n촬영의뢰서 등은 필요치 않은지 궁금합니다.\\n\\n\\n->현재 좀 앞뒤가 맞지 않습니다. 인공디스크 수술을 하시려고 하는데\\n영상 검사 비용이 저렴한 곳을 찾고 계시는 것으로 보이는 데요.\\n타병원에서 MRI를 찍고 오셔도 기분이 나쁘거나 하지는 않습니다.\\n단 수술하는 병원에서는 다시 검사 합니다.\\n\\n물론 정말 친분이 있고 부탁을 하면 추가로 검사하지 않고 수술을 시행할 수도 있으나 대부분의 경우는 그렇지 않다고 보시면 됩니다.\\n촬영비가 저렴한 곳은 방사선과 의원 등인데 장비의 구매 년도가 중요합니다. 오래된 MRI일 수록 영상이 많이 떨어집니다.\\n과거에는 MRI 2장에 120만원 이었습니다. 최근에 많이 저렴하게 되었으나\\n아직도 부담이 되는 것은 사실 입니다.\\n\\n촬영 의뢰서는 불필요합니다. 대학병원등의 3차 병원에 가실것이 아니라면요.\\n\\n\\n정리 간단히 해 드리면 현재 정확한 상태 모르나 증상이 수술 할 정도로 판단되지 않으며 정확한 영상검사를 시행하신 뒤 진단을 명확히 하는 것이 좋을 듯 하며 수술적인 치료는 환자분이 말씁하신 것 처럼 다시 안하시려면 신중해야 합니다.\\n\\n참고로 재 외래에 오시는 환자분 중 유명한 병원에서 전방 접근 아티피셜\\n디스크만 수술 받으신 환자분으로 지속적인 요통 및 이상증상이 있는 상태로 계속 약물 치료 및 보존 치료 중인데 영상에서는 정말 아무런 문제도 없습니다. 다시말해 심리적인 부분이 척추 질환 환자분께 많다는 것입니다.\\n\\n\\n감사합니다.']]\n"
     ]
    },
    {
     "ename": "NoSuchElementException",
     "evalue": "Message: no such element: Unable to locate element: {\"method\":\"css selector\",\"selector\":\".ico_comm .btn_next\"}\n  (Session info: chrome=116.0.5845.180)\n",
     "output_type": "error",
     "traceback": [
      "\u001b[1;31m---------------------------------------------------------------------------\u001b[0m",
      "\u001b[1;31mNoSuchElementException\u001b[0m                    Traceback (most recent call last)",
      "Cell \u001b[1;32mIn[13], line 34\u001b[0m\n\u001b[0;32m     32\u001b[0m \u001b[38;5;28mprint\u001b[39m(basket_list[:\u001b[38;5;241m5\u001b[39m])\n\u001b[0;32m     33\u001b[0m element_next_path \u001b[38;5;241m=\u001b[39m \u001b[38;5;124m'\u001b[39m\u001b[38;5;124m.ico_comm .btn_next\u001b[39m\u001b[38;5;124m'\u001b[39m\n\u001b[1;32m---> 34\u001b[0m next_pagination \u001b[38;5;241m=\u001b[39m browser\u001b[38;5;241m.\u001b[39mfind_element_by_css_selector(element_next_path)\u001b[38;5;241m.\u001b[39mclick()\n",
      "File \u001b[1;32m~\\anaconda3\\Lib\\site-packages\\selenium\\webdriver\\remote\\webdriver.py:598\u001b[0m, in \u001b[0;36mWebDriver.find_element_by_css_selector\u001b[1;34m(self, css_selector)\u001b[0m\n\u001b[0;32m    582\u001b[0m \u001b[38;5;28;01mdef\u001b[39;00m \u001b[38;5;21mfind_element_by_css_selector\u001b[39m(\u001b[38;5;28mself\u001b[39m, css_selector):\n\u001b[0;32m    583\u001b[0m \u001b[38;5;250m    \u001b[39m\u001b[38;5;124;03m\"\"\"\u001b[39;00m\n\u001b[0;32m    584\u001b[0m \u001b[38;5;124;03m    Finds an element by css selector.\u001b[39;00m\n\u001b[0;32m    585\u001b[0m \n\u001b[1;32m   (...)\u001b[0m\n\u001b[0;32m    596\u001b[0m \u001b[38;5;124;03m        element = driver.find_element_by_css_selector('#foo')\u001b[39;00m\n\u001b[0;32m    597\u001b[0m \u001b[38;5;124;03m    \"\"\"\u001b[39;00m\n\u001b[1;32m--> 598\u001b[0m     \u001b[38;5;28;01mreturn\u001b[39;00m \u001b[38;5;28mself\u001b[39m\u001b[38;5;241m.\u001b[39mfind_element(by\u001b[38;5;241m=\u001b[39mBy\u001b[38;5;241m.\u001b[39mCSS_SELECTOR, value\u001b[38;5;241m=\u001b[39mcss_selector)\n",
      "File \u001b[1;32m~\\anaconda3\\Lib\\site-packages\\selenium\\webdriver\\remote\\webdriver.py:976\u001b[0m, in \u001b[0;36mWebDriver.find_element\u001b[1;34m(self, by, value)\u001b[0m\n\u001b[0;32m    974\u001b[0m         by \u001b[38;5;241m=\u001b[39m By\u001b[38;5;241m.\u001b[39mCSS_SELECTOR\n\u001b[0;32m    975\u001b[0m         value \u001b[38;5;241m=\u001b[39m \u001b[38;5;124m'\u001b[39m\u001b[38;5;124m[name=\u001b[39m\u001b[38;5;124m\"\u001b[39m\u001b[38;5;132;01m%s\u001b[39;00m\u001b[38;5;124m\"\u001b[39m\u001b[38;5;124m]\u001b[39m\u001b[38;5;124m'\u001b[39m \u001b[38;5;241m%\u001b[39m value\n\u001b[1;32m--> 976\u001b[0m \u001b[38;5;28;01mreturn\u001b[39;00m \u001b[38;5;28mself\u001b[39m\u001b[38;5;241m.\u001b[39mexecute(Command\u001b[38;5;241m.\u001b[39mFIND_ELEMENT, {\n\u001b[0;32m    977\u001b[0m     \u001b[38;5;124m'\u001b[39m\u001b[38;5;124musing\u001b[39m\u001b[38;5;124m'\u001b[39m: by,\n\u001b[0;32m    978\u001b[0m     \u001b[38;5;124m'\u001b[39m\u001b[38;5;124mvalue\u001b[39m\u001b[38;5;124m'\u001b[39m: value})[\u001b[38;5;124m'\u001b[39m\u001b[38;5;124mvalue\u001b[39m\u001b[38;5;124m'\u001b[39m]\n",
      "File \u001b[1;32m~\\anaconda3\\Lib\\site-packages\\selenium\\webdriver\\remote\\webdriver.py:321\u001b[0m, in \u001b[0;36mWebDriver.execute\u001b[1;34m(self, driver_command, params)\u001b[0m\n\u001b[0;32m    319\u001b[0m response \u001b[38;5;241m=\u001b[39m \u001b[38;5;28mself\u001b[39m\u001b[38;5;241m.\u001b[39mcommand_executor\u001b[38;5;241m.\u001b[39mexecute(driver_command, params)\n\u001b[0;32m    320\u001b[0m \u001b[38;5;28;01mif\u001b[39;00m response:\n\u001b[1;32m--> 321\u001b[0m     \u001b[38;5;28mself\u001b[39m\u001b[38;5;241m.\u001b[39merror_handler\u001b[38;5;241m.\u001b[39mcheck_response(response)\n\u001b[0;32m    322\u001b[0m     response[\u001b[38;5;124m'\u001b[39m\u001b[38;5;124mvalue\u001b[39m\u001b[38;5;124m'\u001b[39m] \u001b[38;5;241m=\u001b[39m \u001b[38;5;28mself\u001b[39m\u001b[38;5;241m.\u001b[39m_unwrap_value(\n\u001b[0;32m    323\u001b[0m         response\u001b[38;5;241m.\u001b[39mget(\u001b[38;5;124m'\u001b[39m\u001b[38;5;124mvalue\u001b[39m\u001b[38;5;124m'\u001b[39m, \u001b[38;5;28;01mNone\u001b[39;00m))\n\u001b[0;32m    324\u001b[0m     \u001b[38;5;28;01mreturn\u001b[39;00m response\n",
      "File \u001b[1;32m~\\anaconda3\\Lib\\site-packages\\selenium\\webdriver\\remote\\errorhandler.py:242\u001b[0m, in \u001b[0;36mErrorHandler.check_response\u001b[1;34m(self, response)\u001b[0m\n\u001b[0;32m    240\u001b[0m         alert_text \u001b[38;5;241m=\u001b[39m value[\u001b[38;5;124m'\u001b[39m\u001b[38;5;124malert\u001b[39m\u001b[38;5;124m'\u001b[39m]\u001b[38;5;241m.\u001b[39mget(\u001b[38;5;124m'\u001b[39m\u001b[38;5;124mtext\u001b[39m\u001b[38;5;124m'\u001b[39m)\n\u001b[0;32m    241\u001b[0m     \u001b[38;5;28;01mraise\u001b[39;00m exception_class(message, screen, stacktrace, alert_text)\n\u001b[1;32m--> 242\u001b[0m \u001b[38;5;28;01mraise\u001b[39;00m exception_class(message, screen, stacktrace)\n",
      "\u001b[1;31mNoSuchElementException\u001b[0m: Message: no such element: Unable to locate element: {\"method\":\"css selector\",\"selector\":\".ico_comm .btn_next\"}\n  (Session info: chrome=116.0.5845.180)\n"
     ]
    }
   ],
   "source": [
    "#paginations\n",
    "basket_list = []\n",
    "for page_number in range(2, 3):\n",
    "    time.sleep(2)\n",
    "    element_path = 'div.paging_type1 > span > a:nth-child({})'.format(page_number)\n",
    "    try:\n",
    "        for clicker in range(1, 21) :\n",
    "            try:\n",
    "                click_path = 'div.coll_info > ul > li:nth-child({}) > a > b'.format(clicker)\n",
    "                browser.find_element_by_css_selector(click_path).click()\n",
    "                title_name = browser.find_element_by_css_selector('div.box_type1.view_question > div.inner > strong').text\n",
    "                content = browser.find_element_by_css_selector('div.box_type1.view_question > div.inner > div.desc > p').text\n",
    "                review = browser.find_element_by_css_selector('div.cont > div:nth-child(1)').text\n",
    "\n",
    "                # print('title: {}, content:{}'.format(title_name, content))\n",
    "                # print('review:{}'.format(review))\n",
    "\n",
    "                # time.sleep(2)\n",
    "                browser.back()\n",
    "                # time.sleep(3)\n",
    "                total_list = [title_name, content, review]\n",
    "                basket_list.append(total_list)\n",
    "                \n",
    "            except:\n",
    "                pass\n",
    "        pagination = browser.find_element_by_css_selector(element_path)\n",
    "        pagination.click()\n",
    "        print('성공 : {}'.format(element_path))\n",
    "    except:\n",
    "        print('실패 : {}'.format(element_path))\n",
    "        pass\n",
    "print(basket_list[:5])\n",
    "element_next_path = '.btn_next'\n",
    "next_pagination = browser.find_element_by_css_selector(element_next_path).click()"
   ]
  },
  {
   "cell_type": "code",
   "execution_count": null,
   "id": "ae5d6a16-8385-4928-af10-870a2cb329f3",
   "metadata": {
    "tags": []
   },
   "outputs": [],
   "source": [
    "# import time \n",
    "\n",
    "# for page_number in range(1,11): #첫 페이지는 tag가 달라짐 #2페이지부터 \n",
    "#     element_path = '#area_itemlist > div.paginate > div > a:nth-of-type({})'.format(page_number)\n",
    "#     try: \n",
    "#         pagination = browser.find_element_by_css_selector(element_path)\n",
    "#         pagination.click()\n",
    "#         print('성공: {}'.format(element_path))\n",
    "        \n",
    "#         time.sleep(3)\n",
    "#         element_title_path = '.mnemitem_goods_tit'\n",
    "#         webelements = browser.find_elements_by_css_selector(element_title_path)\n",
    "        \n",
    "#         for webelement in webelements:\n",
    "#             try :\n",
    "#                 print(webelement.text)\n",
    "#             except :\n",
    "#                 pass\n",
    "#     except: \n",
    "#         print('실패: {}'.format(element_path))\n",
    "#         pass \n",
    "    \n",
    "    \n",
    "# #네트웍을 타고 들어오는 시간에 클릭을 하면 에러-> 로딩되는 타임에는 기다려달라는 방어코드 필요 "
   ]
  }
 ],
 "metadata": {
  "kernelspec": {
   "display_name": "Python 3 (ipykernel)",
   "language": "python",
   "name": "python3"
  },
  "language_info": {
   "codemirror_mode": {
    "name": "ipython",
    "version": 3
   },
   "file_extension": ".py",
   "mimetype": "text/x-python",
   "name": "python",
   "nbconvert_exporter": "python",
   "pygments_lexer": "ipython3",
   "version": "3.11.3"
  }
 },
 "nbformat": 4,
 "nbformat_minor": 5
}
