{
 "cells": [
  {
   "cell_type": "code",
   "execution_count": 4,
   "id": "49ccd436-7776-48d0-975b-db9d0eac5915",
   "metadata": {
    "tags": []
   },
   "outputs": [],
   "source": [
    "from selenium import webdriver\n",
    "import time"
   ]
  },
  {
   "cell_type": "code",
   "execution_count": 2,
   "id": "2ceb7591-d618-4fb3-85d0-042e88d41f18",
   "metadata": {
    "tags": []
   },
   "outputs": [],
   "source": [
    "# open chrome browser\n",
    "browser = webdriver.Chrome(executable_path='../../../../chromedriver.exe')"
   ]
  },
  {
   "cell_type": "code",
   "execution_count": null,
   "id": "b64dfcfe-3413-40a0-b088-a0ba7f2028d7",
   "metadata": {},
   "outputs": [],
   "source": [
    "# url in address window(주소창에 url 입력)\n",
    "browser.get('')"
   ]
  },
  {
   "cell_type": "code",
   "execution_count": null,
   "id": "4e15c786-3c1b-413b-81c0-ad5d569fb996",
   "metadata": {},
   "outputs": [],
   "source": [
    "browser.implicitly_wait(10)"
   ]
  },
  {
   "cell_type": "markdown",
   "id": "f5be77a3-8003-4f76-aa12-1cdaaffcdc34",
   "metadata": {},
   "source": [
    "### scrapping 대상 사이트\n",
    "1. https://www.teamblind.com/kr/search/%EB%94%94%EC%8A%A4%ED%81%AC\n",
    "2. https://www.hidoc.co.kr/integratesearch/searchhealthqnalist?query=%EB%94%94%EC%8A%A4%ED%81%AC&page=1\n",
    "3. https://www.clien.net/service/search?q=%EB%94%94%EC%8A%A4%ED%81%AC&sort=recency&p=10&boardCd=&isBoard=false"
   ]
  },
  {
   "cell_type": "code",
   "execution_count": null,
   "id": "df913998-3a16-47c8-95c8-e04221440618",
   "metadata": {},
   "outputs": [],
   "source": []
  }
 ],
 "metadata": {
  "kernelspec": {
   "display_name": "Python 3 (ipykernel)",
   "language": "python",
   "name": "python3"
  },
  "language_info": {
   "codemirror_mode": {
    "name": "ipython",
    "version": 3
   },
   "file_extension": ".py",
   "mimetype": "text/x-python",
   "name": "python",
   "nbconvert_exporter": "python",
   "pygments_lexer": "ipython3",
   "version": "3.11.3"
  }
 },
 "nbformat": 4,
 "nbformat_minor": 5
}
