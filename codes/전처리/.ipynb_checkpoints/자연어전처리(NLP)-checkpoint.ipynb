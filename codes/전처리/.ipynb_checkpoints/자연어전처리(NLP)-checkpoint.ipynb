{
 "cells": [
  {
   "cell_type": "code",
   "execution_count": 3,
   "id": "cc2f1b8d-f54f-4368-8faf-44d68e3d89c0",
   "metadata": {
    "tags": []
   },
   "outputs": [],
   "source": [
    "import pandas as pd"
   ]
  },
  {
   "cell_type": "code",
   "execution_count": 4,
   "id": "7b2a5761-dd93-4252-92a0-ec6ef802141c",
   "metadata": {
    "tags": []
   },
   "outputs": [
    {
     "data": {
      "text/html": [
       "<div>\n",
       "<style scoped>\n",
       "    .dataframe tbody tr th:only-of-type {\n",
       "        vertical-align: middle;\n",
       "    }\n",
       "\n",
       "    .dataframe tbody tr th {\n",
       "        vertical-align: top;\n",
       "    }\n",
       "\n",
       "    .dataframe thead th {\n",
       "        text-align: right;\n",
       "    }\n",
       "</style>\n",
       "<table border=\"1\" class=\"dataframe\">\n",
       "  <thead>\n",
       "    <tr style=\"text-align: right;\">\n",
       "      <th></th>\n",
       "      <th>Unnamed: 0</th>\n",
       "      <th>writer</th>\n",
       "      <th>date</th>\n",
       "      <th>review</th>\n",
       "    </tr>\n",
       "  </thead>\n",
       "  <tbody>\n",
       "    <tr>\n",
       "      <th>0</th>\n",
       "      <td>0</td>\n",
       "      <td>스타트업 · v*******</td>\n",
       "      <td>작성일\\n08.17</td>\n",
       "      <td>왜 그렇게 말씀 하신지 물어봐도 될까요? 저도 디스크로 고생하고 있는데 한약치료를 ...</td>\n",
       "    </tr>\n",
       "    <tr>\n",
       "      <th>1</th>\n",
       "      <td>1</td>\n",
       "      <td>새회사 · l*********\\n작성자</td>\n",
       "      <td>작성일\\n01.06</td>\n",
       "      <td>복근은 그럼 뭐로해야할까\\n나 헹레레 조아하는데..</td>\n",
       "    </tr>\n",
       "    <tr>\n",
       "      <th>2</th>\n",
       "      <td>2</td>\n",
       "      <td>국민건강보험공단\\n· !*********</td>\n",
       "      <td>작성일\\n2020.10.10.</td>\n",
       "      <td>터지면 상태가 어때?</td>\n",
       "    </tr>\n",
       "    <tr>\n",
       "      <th>3</th>\n",
       "      <td>3</td>\n",
       "      <td>국민건강보험공단\\n· !*********</td>\n",
       "      <td>작성일\\n2021.03.27.</td>\n",
       "      <td>허리조심...</td>\n",
       "    </tr>\n",
       "    <tr>\n",
       "      <th>4</th>\n",
       "      <td>4</td>\n",
       "      <td>국민건강보험공단\\n· !*********</td>\n",
       "      <td>작성일\\n2022.08.26.</td>\n",
       "      <td>나으셨나요</td>\n",
       "    </tr>\n",
       "  </tbody>\n",
       "</table>\n",
       "</div>"
      ],
      "text/plain": [
       "   Unnamed: 0                  writer              date  \\\n",
       "0           0         스타트업 · v*******        작성일\\n08.17   \n",
       "1           1   새회사 · l*********\\n작성자        작성일\\n01.06   \n",
       "2           2  국민건강보험공단\\n· !*********  작성일\\n2020.10.10.   \n",
       "3           3  국민건강보험공단\\n· !*********  작성일\\n2021.03.27.   \n",
       "4           4  국민건강보험공단\\n· !*********  작성일\\n2022.08.26.   \n",
       "\n",
       "                                              review  \n",
       "0  왜 그렇게 말씀 하신지 물어봐도 될까요? 저도 디스크로 고생하고 있는데 한약치료를 ...  \n",
       "1                       복근은 그럼 뭐로해야할까\\n나 헹레레 조아하는데..  \n",
       "2                                        터지면 상태가 어때?  \n",
       "3                                            허리조심...  \n",
       "4                                              나으셨나요  "
      ]
     },
     "execution_count": 4,
     "metadata": {},
     "output_type": "execute_result"
    }
   ],
   "source": [
    "df = pd.read_csv('../../datasets/total_db.csv')\n",
    "df[:5]"
   ]
  },
  {
   "cell_type": "markdown",
   "id": "268d9e58-0b77-40b2-97cf-eaf217894827",
   "metadata": {},
   "source": [
    "### 불용어 처리"
   ]
  },
  {
   "cell_type": "code",
   "execution_count": 5,
   "id": "be972de5-40da-47fc-8d51-e4f7fb423efe",
   "metadata": {
    "tags": []
   },
   "outputs": [],
   "source": [
    "from mecab import MeCab\n",
    "mecab = MeCab()"
   ]
  },
  {
   "cell_type": "code",
   "execution_count": 6,
   "id": "4d00594e-6e1a-482c-9932-160efa6786e1",
   "metadata": {
    "tags": []
   },
   "outputs": [
    {
     "data": {
      "text/plain": [
       "['왜 그렇게 말씀 하신지 물어봐도 될까요? 저도 디스크로 고생하고 있는데 한약치료를 받을지 신경주사를 한 번 더 맞을지 고민되서요.',\n",
       " '복근은 그럼 뭐로해야할까\\n나 헹레레 조아하는데..',\n",
       " '터지면 상태가 어때?',\n",
       " '허리조심...',\n",
       " '나으셨나요']"
      ]
     },
     "execution_count": 6,
     "metadata": {},
     "output_type": "execute_result"
    }
   ],
   "source": [
    "df_list = list(df['review'])\n",
    "df_list[:5]"
   ]
  },
  {
   "cell_type": "code",
   "execution_count": null,
   "id": "0b50b5cd-e48f-4f96-b7cc-ed4559fb4be1",
   "metadata": {
    "tags": []
   },
   "outputs": [],
   "source": [
    "# 품사 달기\n",
    "mecab.pos(df_list)"
   ]
  },
  {
   "cell_type": "code",
   "execution_count": null,
   "id": "1a392286-132b-4679-9947-50f8bbc1226c",
   "metadata": {},
   "outputs": [],
   "source": [
    "### 대체어 처리"
   ]
  },
  {
   "cell_type": "code",
   "execution_count": null,
   "id": "8009d0fa-d161-4643-b1b7-052d34481f67",
   "metadata": {},
   "outputs": [],
   "source": [
    "### 한글자 처리"
   ]
  },
  {
   "cell_type": "code",
   "execution_count": null,
   "id": "3dce8b52-b475-42f5-baaa-c227603d89b0",
   "metadata": {},
   "outputs": [],
   "source": []
  }
 ],
 "metadata": {
  "kernelspec": {
   "display_name": "Python 3 (ipykernel)",
   "language": "python",
   "name": "python3"
  },
  "language_info": {
   "codemirror_mode": {
    "name": "ipython",
    "version": 3
   },
   "file_extension": ".py",
   "mimetype": "text/x-python",
   "name": "python",
   "nbconvert_exporter": "python",
   "pygments_lexer": "ipython3",
   "version": "3.11.3"
  }
 },
 "nbformat": 4,
 "nbformat_minor": 5
}
